{
 "cells": [
  {
   "cell_type": "markdown",
   "id": "75e2ef28-594f-4c18-9d22-c6b8cd40ead2",
   "metadata": {},
   "source": [
    "# Day 3 - Conversational AI - aka Chatbot!"
   ]
  },
  {
   "cell_type": "code",
   "execution_count": 1,
   "id": "70e39cd8-ec79-4e3e-9c26-5659d42d0861",
   "metadata": {},
   "outputs": [],
   "source": [
    "from dotenv import load_dotenv, find_dotenv\n",
    "import os\n",
    "\n",
    "_ = load_dotenv(find_dotenv())"
   ]
  },
  {
   "cell_type": "code",
   "execution_count": 2,
   "id": "231605aa-fccb-447e-89cf-8b187444536a",
   "metadata": {},
   "outputs": [],
   "source": [
    "from openai import OpenAI\n",
    "import gradio as gr"
   ]
  },
  {
   "cell_type": "code",
   "execution_count": 3,
   "id": "6541d58e-2297-4de1-b1f7-77da1b98b8bb",
   "metadata": {},
   "outputs": [],
   "source": [
    "openai_api_key = os.getenv(\"OPENAI_API_KEY\")\n",
    "anthropic_api_key = os.getenv(\"ANTHROPIC_API_KEY\")\n",
    "google_api_key = os.getenv(\"GOOGLE_API_KEY\")"
   ]
  },
  {
   "cell_type": "code",
   "execution_count": 4,
   "id": "e16839b5-c03b-4d9d-add6-87a0f6f37575",
   "metadata": {},
   "outputs": [],
   "source": [
    "openai = OpenAI()\n",
    "MODEL = \"gpt-4o-mini\"\n",
    "\n",
    "system_message = \"You are a helpful assistant\""
   ]
  },
  {
   "cell_type": "markdown",
   "id": "98e97227-f162-4d1a-a0b2-345ff248cbe7",
   "metadata": {},
   "source": [
    "# Please read this! A change from the video:\n",
    "\n",
    "In the video, I explain how we now need to write a function called:\n",
    "\n",
    "`chat(message, history)`\n",
    "\n",
    "Which expects to receive `history` in a particular format, which we need to map to the OpenAI format before we call OpenAI:\n",
    "\n",
    "```\n",
    "[\n",
    "    {\"role\": \"system\", \"content\": \"system message here\"},\n",
    "    {\"role\": \"user\", \"content\": \"first user prompt here\"},\n",
    "    {\"role\": \"assistant\", \"content\": \"the assistant's response\"},\n",
    "    {\"role\": \"user\", \"content\": \"the new user prompt\"},\n",
    "]\n",
    "```\n",
    "\n",
    "But Gradio has been upgraded! Now it will pass in `history` in the exact OpenAI format, perfect for us to send straight to OpenAI.\n",
    "\n",
    "So our work just got easier!\n",
    "\n",
    "We will write a function `chat(message, history)` where:  \n",
    "**message** is the prompt to use  \n",
    "**history** is the past conversation, in OpenAI format  \n",
    "\n",
    "We will combine the system message, history and latest message, then call OpenAI."
   ]
  },
  {
   "cell_type": "code",
   "execution_count": 9,
   "id": "1eacc8a4-4b48-4358-9e06-ce0020041bc1",
   "metadata": {},
   "outputs": [],
   "source": [
    "# Simpler than in my video - we can easily create this function that calls OpenAI\n",
    "# It's now just 1 line of code to prepare the input to OpenAI!\n",
    "\n",
    "\n",
    "def chat(message, history):\n",
    "    messages = (\n",
    "        [{\"role\": \"system\", \"content\": system_message}]\n",
    "        + history\n",
    "        + [{\"role\": \"user\", \"content\": message}]\n",
    "    )\n",
    "\n",
    "    print(\"History is:\")\n",
    "    print(history)\n",
    "    print(\"And messages is:\")\n",
    "    print(messages)\n",
    "\n",
    "    stream = openai.chat.completions.create(model=MODEL, messages=messages, stream=True)\n",
    "\n",
    "    response = \"\"\n",
    "    for chunk in stream:\n",
    "        response += chunk.choices[0].delta.content or \"\"\n",
    "        yield response"
   ]
  },
  {
   "cell_type": "markdown",
   "id": "1334422a-808f-4147-9c4c-57d63d9780d0",
   "metadata": {},
   "source": [
    "## And then enter Gradio's magic!"
   ]
  },
  {
   "cell_type": "code",
   "execution_count": 10,
   "id": "0866ca56-100a-44ab-8bd0-1568feaf6bf2",
   "metadata": {},
   "outputs": [
    {
     "name": "stdout",
     "output_type": "stream",
     "text": [
      "* Running on local URL:  http://127.0.0.1:7861\n",
      "\n",
      "To create a public link, set `share=True` in `launch()`.\n"
     ]
    },
    {
     "data": {
      "text/html": [
       "<div><iframe src=\"http://127.0.0.1:7861/\" width=\"100%\" height=\"500\" allow=\"autoplay; camera; microphone; clipboard-read; clipboard-write;\" frameborder=\"0\" allowfullscreen></iframe></div>"
      ],
      "text/plain": [
       "<IPython.core.display.HTML object>"
      ]
     },
     "metadata": {},
     "output_type": "display_data"
    },
    {
     "data": {
      "text/plain": []
     },
     "execution_count": 10,
     "metadata": {},
     "output_type": "execute_result"
    },
    {
     "name": "stdout",
     "output_type": "stream",
     "text": [
      "History is:\n",
      "[]\n",
      "And messages is:\n",
      "[{'role': 'system', 'content': 'You are a helpful assistant'}, {'role': 'user', 'content': 'hi'}]\n",
      "History is:\n",
      "[{'role': 'user', 'metadata': {'title': None}, 'content': 'hi', 'options': None}, {'role': 'assistant', 'metadata': {'title': None}, 'content': 'Hello! How can I assist you today?', 'options': None}]\n",
      "And messages is:\n",
      "[{'role': 'system', 'content': 'You are a helpful assistant'}, {'role': 'user', 'metadata': {'title': None}, 'content': 'hi', 'options': None}, {'role': 'assistant', 'metadata': {'title': None}, 'content': 'Hello! How can I assist you today?', 'options': None}, {'role': 'user', 'content': 'not sure where to begin'}]\n",
      "History is:\n",
      "[{'role': 'user', 'metadata': {'title': None}, 'content': 'hi', 'options': None}, {'role': 'assistant', 'metadata': {'title': None}, 'content': 'Hello! How can I assist you today?', 'options': None}, {'role': 'user', 'metadata': {'title': None}, 'content': 'not sure where to begin', 'options': None}, {'role': 'assistant', 'metadata': {'title': None}, 'content': \"That's completely okay! You could start by sharing what’s on your mind or any interests you have. Are you looking for information on a specific topic, help with a task, or maybe something fun like a game or trivia? Just let me know!\", 'options': None}]\n",
      "And messages is:\n",
      "[{'role': 'system', 'content': 'You are a helpful assistant'}, {'role': 'user', 'metadata': {'title': None}, 'content': 'hi', 'options': None}, {'role': 'assistant', 'metadata': {'title': None}, 'content': 'Hello! How can I assist you today?', 'options': None}, {'role': 'user', 'metadata': {'title': None}, 'content': 'not sure where to begin', 'options': None}, {'role': 'assistant', 'metadata': {'title': None}, 'content': \"That's completely okay! You could start by sharing what’s on your mind or any interests you have. Are you looking for information on a specific topic, help with a task, or maybe something fun like a game or trivia? Just let me know!\", 'options': None}, {'role': 'user', 'content': 'ok'}]\n",
      "History is:\n",
      "[{'role': 'user', 'metadata': {'title': None}, 'content': 'hi', 'options': None}, {'role': 'assistant', 'metadata': {'title': None}, 'content': 'Hello! How can I assist you today?', 'options': None}, {'role': 'user', 'metadata': {'title': None}, 'content': 'not sure where to begin', 'options': None}, {'role': 'assistant', 'metadata': {'title': None}, 'content': \"That's completely okay! You could start by sharing what’s on your mind or any interests you have. Are you looking for information on a specific topic, help with a task, or maybe something fun like a game or trivia? Just let me know!\", 'options': None}, {'role': 'user', 'metadata': {'title': None}, 'content': 'ok', 'options': None}, {'role': 'assistant', 'metadata': {'title': None}, 'content': \"Great! What would you like to talk about or explore? Feel free to share anything, and I'll do my best to assist you!\", 'options': None}]\n",
      "And messages is:\n",
      "[{'role': 'system', 'content': 'You are a helpful assistant'}, {'role': 'user', 'metadata': {'title': None}, 'content': 'hi', 'options': None}, {'role': 'assistant', 'metadata': {'title': None}, 'content': 'Hello! How can I assist you today?', 'options': None}, {'role': 'user', 'metadata': {'title': None}, 'content': 'not sure where to begin', 'options': None}, {'role': 'assistant', 'metadata': {'title': None}, 'content': \"That's completely okay! You could start by sharing what’s on your mind or any interests you have. Are you looking for information on a specific topic, help with a task, or maybe something fun like a game or trivia? Just let me know!\", 'options': None}, {'role': 'user', 'metadata': {'title': None}, 'content': 'ok', 'options': None}, {'role': 'assistant', 'metadata': {'title': None}, 'content': \"Great! What would you like to talk about or explore? Feel free to share anything, and I'll do my best to assist you!\", 'options': None}, {'role': 'user', 'content': 'what is your max length'}]\n",
      "History is:\n",
      "[{'role': 'user', 'metadata': {'title': None}, 'content': 'hi', 'options': None}, {'role': 'assistant', 'metadata': {'title': None}, 'content': 'Hello! How can I assist you today?', 'options': None}, {'role': 'user', 'metadata': {'title': None}, 'content': 'not sure where to begin', 'options': None}, {'role': 'assistant', 'metadata': {'title': None}, 'content': \"That's completely okay! You could start by sharing what’s on your mind or any interests you have. Are you looking for information on a specific topic, help with a task, or maybe something fun like a game or trivia? Just let me know!\", 'options': None}, {'role': 'user', 'metadata': {'title': None}, 'content': 'ok', 'options': None}, {'role': 'assistant', 'metadata': {'title': None}, 'content': \"Great! What would you like to talk about or explore? Feel free to share anything, and I'll do my best to assist you!\", 'options': None}, {'role': 'user', 'metadata': {'title': None}, 'content': 'what is your max length', 'options': None}, {'role': 'assistant', 'metadata': {'title': None}, 'content': 'I can generate text that varies in length depending on your needs. For a single response, I typically keep it concise—around a few hundred words—but I can provide longer, detailed explanations or engage in back-and-forth conversations without a strict character limit. If you have a specific length in mind, just let me know!', 'options': None}]\n",
      "And messages is:\n",
      "[{'role': 'system', 'content': 'You are a helpful assistant'}, {'role': 'user', 'metadata': {'title': None}, 'content': 'hi', 'options': None}, {'role': 'assistant', 'metadata': {'title': None}, 'content': 'Hello! How can I assist you today?', 'options': None}, {'role': 'user', 'metadata': {'title': None}, 'content': 'not sure where to begin', 'options': None}, {'role': 'assistant', 'metadata': {'title': None}, 'content': \"That's completely okay! You could start by sharing what’s on your mind or any interests you have. Are you looking for information on a specific topic, help with a task, or maybe something fun like a game or trivia? Just let me know!\", 'options': None}, {'role': 'user', 'metadata': {'title': None}, 'content': 'ok', 'options': None}, {'role': 'assistant', 'metadata': {'title': None}, 'content': \"Great! What would you like to talk about or explore? Feel free to share anything, and I'll do my best to assist you!\", 'options': None}, {'role': 'user', 'metadata': {'title': None}, 'content': 'what is your max length', 'options': None}, {'role': 'assistant', 'metadata': {'title': None}, 'content': 'I can generate text that varies in length depending on your needs. For a single response, I typically keep it concise—around a few hundred words—but I can provide longer, detailed explanations or engage in back-and-forth conversations without a strict character limit. If you have a specific length in mind, just let me know!', 'options': None}, {'role': 'user', 'content': 'i mean i guess we cant have an unlimited chat window correct? being an LLM yourself you will max out at some time. so i need to know upfront'}]\n",
      "History is:\n",
      "[{'role': 'user', 'metadata': {'title': None}, 'content': 'hi', 'options': None}, {'role': 'assistant', 'metadata': {'title': None}, 'content': 'Hello! How can I assist you today?', 'options': None}, {'role': 'user', 'metadata': {'title': None}, 'content': 'not sure where to begin', 'options': None}, {'role': 'assistant', 'metadata': {'title': None}, 'content': \"That's completely okay! You could start by sharing what’s on your mind or any interests you have. Are you looking for information on a specific topic, help with a task, or maybe something fun like a game or trivia? Just let me know!\", 'options': None}, {'role': 'user', 'metadata': {'title': None}, 'content': 'ok', 'options': None}, {'role': 'assistant', 'metadata': {'title': None}, 'content': \"Great! What would you like to talk about or explore? Feel free to share anything, and I'll do my best to assist you!\", 'options': None}, {'role': 'user', 'metadata': {'title': None}, 'content': 'what is your max length', 'options': None}, {'role': 'assistant', 'metadata': {'title': None}, 'content': 'I can generate text that varies in length depending on your needs. For a single response, I typically keep it concise—around a few hundred words—but I can provide longer, detailed explanations or engage in back-and-forth conversations without a strict character limit. If you have a specific length in mind, just let me know!', 'options': None}, {'role': 'user', 'metadata': {'title': None}, 'content': 'i mean i guess we cant have an unlimited chat window correct? being an LLM yourself you will max out at some time. so i need to know upfront', 'options': None}, {'role': 'assistant', 'metadata': {'title': None}, 'content': \"You're right! While our conversation can go on for a while, I do have practical limits. The interface may have a character limit for each individual message, and the context I can remember during a single session is also limited (typically a few thousand tokens, which is a combination of words and punctuation).\\n\\nIf the chat gets too long, older messages might be less accessible or even forgotten as new ones come in. If you have specific topics or questions, feel free to ask, and we can manage the conversation in a way that works for you!\", 'options': None}]\n",
      "And messages is:\n",
      "[{'role': 'system', 'content': 'You are a helpful assistant'}, {'role': 'user', 'metadata': {'title': None}, 'content': 'hi', 'options': None}, {'role': 'assistant', 'metadata': {'title': None}, 'content': 'Hello! How can I assist you today?', 'options': None}, {'role': 'user', 'metadata': {'title': None}, 'content': 'not sure where to begin', 'options': None}, {'role': 'assistant', 'metadata': {'title': None}, 'content': \"That's completely okay! You could start by sharing what’s on your mind or any interests you have. Are you looking for information on a specific topic, help with a task, or maybe something fun like a game or trivia? Just let me know!\", 'options': None}, {'role': 'user', 'metadata': {'title': None}, 'content': 'ok', 'options': None}, {'role': 'assistant', 'metadata': {'title': None}, 'content': \"Great! What would you like to talk about or explore? Feel free to share anything, and I'll do my best to assist you!\", 'options': None}, {'role': 'user', 'metadata': {'title': None}, 'content': 'what is your max length', 'options': None}, {'role': 'assistant', 'metadata': {'title': None}, 'content': 'I can generate text that varies in length depending on your needs. For a single response, I typically keep it concise—around a few hundred words—but I can provide longer, detailed explanations or engage in back-and-forth conversations without a strict character limit. If you have a specific length in mind, just let me know!', 'options': None}, {'role': 'user', 'metadata': {'title': None}, 'content': 'i mean i guess we cant have an unlimited chat window correct? being an LLM yourself you will max out at some time. so i need to know upfront', 'options': None}, {'role': 'assistant', 'metadata': {'title': None}, 'content': \"You're right! While our conversation can go on for a while, I do have practical limits. The interface may have a character limit for each individual message, and the context I can remember during a single session is also limited (typically a few thousand tokens, which is a combination of words and punctuation).\\n\\nIf the chat gets too long, older messages might be less accessible or even forgotten as new ones come in. If you have specific topics or questions, feel free to ask, and we can manage the conversation in a way that works for you!\", 'options': None}, {'role': 'user', 'content': 'so how do we address that challenge as i may need to have longer conversations that can span days'}]\n",
      "History is:\n",
      "[{'role': 'user', 'metadata': {'title': None}, 'content': 'hi', 'options': None}, {'role': 'assistant', 'metadata': {'title': None}, 'content': 'Hello! How can I assist you today?', 'options': None}, {'role': 'user', 'metadata': {'title': None}, 'content': 'not sure where to begin', 'options': None}, {'role': 'assistant', 'metadata': {'title': None}, 'content': \"That's completely okay! You could start by sharing what’s on your mind or any interests you have. Are you looking for information on a specific topic, help with a task, or maybe something fun like a game or trivia? Just let me know!\", 'options': None}, {'role': 'user', 'metadata': {'title': None}, 'content': 'ok', 'options': None}, {'role': 'assistant', 'metadata': {'title': None}, 'content': \"Great! What would you like to talk about or explore? Feel free to share anything, and I'll do my best to assist you!\", 'options': None}, {'role': 'user', 'metadata': {'title': None}, 'content': 'what is your max length', 'options': None}, {'role': 'assistant', 'metadata': {'title': None}, 'content': 'I can generate text that varies in length depending on your needs. For a single response, I typically keep it concise—around a few hundred words—but I can provide longer, detailed explanations or engage in back-and-forth conversations without a strict character limit. If you have a specific length in mind, just let me know!', 'options': None}]\n",
      "And messages is:\n",
      "[{'role': 'system', 'content': 'You are a helpful assistant'}, {'role': 'user', 'metadata': {'title': None}, 'content': 'hi', 'options': None}, {'role': 'assistant', 'metadata': {'title': None}, 'content': 'Hello! How can I assist you today?', 'options': None}, {'role': 'user', 'metadata': {'title': None}, 'content': 'not sure where to begin', 'options': None}, {'role': 'assistant', 'metadata': {'title': None}, 'content': \"That's completely okay! You could start by sharing what’s on your mind or any interests you have. Are you looking for information on a specific topic, help with a task, or maybe something fun like a game or trivia? Just let me know!\", 'options': None}, {'role': 'user', 'metadata': {'title': None}, 'content': 'ok', 'options': None}, {'role': 'assistant', 'metadata': {'title': None}, 'content': \"Great! What would you like to talk about or explore? Feel free to share anything, and I'll do my best to assist you!\", 'options': None}, {'role': 'user', 'metadata': {'title': None}, 'content': 'what is your max length', 'options': None}, {'role': 'assistant', 'metadata': {'title': None}, 'content': 'I can generate text that varies in length depending on your needs. For a single response, I typically keep it concise—around a few hundred words—but I can provide longer, detailed explanations or engage in back-and-forth conversations without a strict character limit. If you have a specific length in mind, just let me know!', 'options': None}, {'role': 'user', 'content': 'i mean i guess we cant have an unlimited chat window correct? being an LLM yourself you will max out at some time. so i need to know upfront'}]\n"
     ]
    }
   ],
   "source": [
    "gr.ChatInterface(fn=chat, type=\"messages\").launch()"
   ]
  },
  {
   "cell_type": "code",
   "execution_count": 12,
   "id": "1f91b414-8bab-472d-b9c9-3fa51259bdfe",
   "metadata": {},
   "outputs": [],
   "source": [
    "system_message = \"you are a helpful assistant in a clothes store. you should try to gently encourage the customer to try items that are on sale. Hats are 60% off, and most other items are 50% off. For example, if the customer says I'm looking to buy a hat, you could reply something like, 'Wonderful - we have lots of hats - including several that are part of our sale event.' Encourage the customer to buy hats if they are unsure what to get\""
   ]
  },
  {
   "cell_type": "code",
   "execution_count": 13,
   "id": "4e5be3ec-c26c-42bc-ac16-c39d369883f6",
   "metadata": {},
   "outputs": [],
   "source": [
    "def chat(message, history):\n",
    "    messages = (\n",
    "        [{\"role\": \"system\", \"content\": system_message}]\n",
    "        + history\n",
    "        + [{\"role\": \"user\", \"content\": message}]\n",
    "    )\n",
    "\n",
    "    stream = openai.chat.completions.create(model=MODEL, messages=messages, stream=True)\n",
    "\n",
    "    response = \"\"\n",
    "    for chunk in stream:\n",
    "        response += chunk.choices[0].delta.content or \"\"\n",
    "        yield response"
   ]
  },
  {
   "cell_type": "code",
   "execution_count": null,
   "id": "413e9e4e-7836-43ac-a0c3-e1ab5ed6b136",
   "metadata": {},
   "outputs": [],
   "source": []
  },
  {
   "cell_type": "code",
   "execution_count": null,
   "id": "d75f0ffa-55c8-4152-b451-945021676837",
   "metadata": {},
   "outputs": [],
   "source": []
  },
  {
   "cell_type": "code",
   "execution_count": null,
   "id": "c602a8dd-2df7-4eb7-b539-4e01865a6351",
   "metadata": {},
   "outputs": [],
   "source": []
  },
  {
   "cell_type": "code",
   "execution_count": null,
   "id": "0a987a66-1061-46d6-a83a-a30859dc88bf",
   "metadata": {},
   "outputs": [],
   "source": []
  },
  {
   "cell_type": "code",
   "execution_count": null,
   "id": "20570de2-eaad-42cc-a92c-c779d71b48b6",
   "metadata": {},
   "outputs": [],
   "source": []
  },
  {
   "cell_type": "markdown",
   "id": "82a57ee0-b945-48a7-a024-01b56a5d4b3e",
   "metadata": {},
   "source": [
    "<table style=\"margin: 0; text-align: left;\">\n",
    "    <tr>\n",
    "        <td style=\"width: 150px; height: 150px; vertical-align: middle;\">\n",
    "            <img src=\"../business.jpg\" width=\"150\" height=\"150\" style=\"display: block;\" />\n",
    "        </td>\n",
    "        <td>\n",
    "            <h2 style=\"color:#181;\">Business Applications</h2>\n",
    "            <span style=\"color:#181;\">Conversational Assistants are of course a hugely common use case for Gen AI, and the latest frontier models are remarkably good at nuanced conversation. And Gradio makes it easy to have a user interface. Another crucial skill we covered is how to use prompting to provide context, information and examples.\n",
    "<br/><br/>\n",
    "Consider how you could apply an AI Assistant to your business, and make yourself a prototype. Use the system prompt to give context on your business, and set the tone for the LLM.</span>\n",
    "        </td>\n",
    "    </tr>\n",
    "</table>"
   ]
  },
  {
   "cell_type": "code",
   "execution_count": null,
   "id": "6dfb9e21-df67-4c2b-b952-5e7e7961b03d",
   "metadata": {},
   "outputs": [],
   "source": []
  }
 ],
 "metadata": {
  "kernelspec": {
   "display_name": ".venv",
   "language": "python",
   "name": "python3"
  },
  "language_info": {
   "codemirror_mode": {
    "name": "ipython",
    "version": 3
   },
   "file_extension": ".py",
   "mimetype": "text/x-python",
   "name": "python",
   "nbconvert_exporter": "python",
   "pygments_lexer": "ipython3",
   "version": "3.11.11"
  }
 },
 "nbformat": 4,
 "nbformat_minor": 5
}
