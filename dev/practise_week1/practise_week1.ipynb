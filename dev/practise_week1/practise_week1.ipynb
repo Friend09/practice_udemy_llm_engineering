{
 "cells": [
  {
   "cell_type": "markdown",
   "metadata": {},
   "source": [
    "# -- DAY1\n"
   ]
  },
  {
   "cell_type": "code",
   "execution_count": 9,
   "metadata": {},
   "outputs": [],
   "source": [
    "# imports\n",
    "\n",
    "import os\n",
    "import requests\n",
    "from dotenv import load_dotenv\n",
    "from bs4 import BeautifulSoup\n",
    "from IPython.display import Markdown, display\n",
    "from openai import OpenAI"
   ]
  },
  {
   "cell_type": "markdown",
   "metadata": {},
   "source": [
    "## WEBSITE\n"
   ]
  },
  {
   "cell_type": "code",
   "execution_count": 5,
   "metadata": {},
   "outputs": [],
   "source": [
    "load_dotenv()\n",
    "api_key = os.getenv(\"OPENAI_API_KEY\")\n",
    "\n",
    "openai = OpenAI()"
   ]
  },
  {
   "cell_type": "code",
   "execution_count": 6,
   "metadata": {},
   "outputs": [
    {
     "name": "stdout",
     "output_type": "stream",
     "text": [
      "Hello! How can I assist you today?\n"
     ]
    }
   ],
   "source": [
    "message = \"Hello GPT! this is my first message\"\n",
    "response = openai.chat.completions.create(\n",
    "    model=\"gpt-4o-mini\", messages=[{\"role\": \"user\", \"content\": \"message\"}]\n",
    ")\n",
    "\n",
    "print(response.choices[0].message.content)"
   ]
  },
  {
   "cell_type": "code",
   "execution_count": 11,
   "metadata": {},
   "outputs": [],
   "source": [
    "headers = {\n",
    "    \"User-Agent\": \"Mozilla/5.0 (Windows NT 10.0; Win64; x64) AppleWebkit/537.36 (KHTML, like Gecko) Chrome/117.0.0.0 Safari/537.36\"\n",
    "}\n",
    "\n",
    "\n",
    "class Website:\n",
    "    def __init__(self, url):\n",
    "        \"\"\" \"\"\"\n",
    "        self.url = url\n",
    "        response = requests.get(url, headers=headers)\n",
    "        soup = BeautifulSoup(response.content, \"html.parser\")\n",
    "\n",
    "        self.title = soup.title.string if soup.title else \"No title found\"\n",
    "\n",
    "        for irrelevant in soup.body([\"script\", \"style\", \"img\", \"input\"]):\n",
    "            irrelevant.decompose()\n",
    "        self.text = soup.body.get_text(separator=\"\\n\", strip=True)"
   ]
  },
  {
   "cell_type": "code",
   "execution_count": 12,
   "metadata": {},
   "outputs": [
    {
     "name": "stdout",
     "output_type": "stream",
     "text": [
      "GitHub - Friend09/practice_udemy_llm_engineering\n",
      "Skip to content\n",
      "Navigation Menu\n",
      "Toggle navigation\n",
      "Sign in\n",
      "Product\n",
      "GitHub Copilot\n",
      "Write better code with AI\n",
      "Security\n",
      "Find and fix vulnerabilities\n",
      "Actions\n",
      "Automate any workflow\n",
      "Codespaces\n",
      "Instant dev environments\n",
      "Issues\n",
      "Plan and track work\n",
      "Code Review\n",
      "Manage code changes\n",
      "Discussions\n",
      "Collaborate outside of code\n",
      "Code Search\n",
      "Find more, search less\n",
      "Explore\n",
      "All features\n",
      "Documentation\n",
      "GitHub Skills\n",
      "Blog\n",
      "Solutions\n",
      "By company size\n",
      "Enterprises\n",
      "Small and medium teams\n",
      "Startups\n",
      "By use case\n",
      "DevSecOps\n",
      "DevOps\n",
      "CI/CD\n",
      "View all use cases\n",
      "By industry\n",
      "Healthcare\n",
      "Financial services\n",
      "Manufacturing\n",
      "Government\n",
      "View all industries\n",
      "View all solutions\n",
      "Resources\n",
      "Topics\n",
      "AI\n",
      "DevOps\n",
      "Security\n",
      "Software Development\n",
      "View all\n",
      "Explore\n",
      "Learning Pathways\n",
      "White papers, Ebooks, Webinars\n",
      "Customer Stories\n",
      "Partners\n",
      "Executive Insights\n",
      "Open Source\n",
      "GitHub Sponsors\n",
      "Fund open source developers\n",
      "The ReadME Project\n",
      "GitHub community articles\n",
      "Repositories\n",
      "Topics\n",
      "Trending\n",
      "Collections\n",
      "Enterprise\n",
      "Enterprise platform\n",
      "AI-powered developer platform\n",
      "Available add-ons\n",
      "Advanced Security\n",
      "Enterprise-grade security features\n",
      "GitHub Copilot\n",
      "Enterprise-grade AI features\n",
      "Premium Support\n",
      "Enterprise-grade 24/7 support\n",
      "Pricing\n",
      "Search or jump to...\n",
      "Search code, repositories, users, issues, pull requests...\n",
      "Search\n",
      "Clear\n",
      "Search syntax tips\n",
      "Provide feedback\n",
      "We read every piece of feedback, and take your input very seriously.\n",
      "Include my email address so I can be contacted\n",
      "Cancel\n",
      "Submit feedback\n",
      "Saved searches\n",
      "Use saved searches to filter your results more quickly\n",
      "Cancel\n",
      "Create saved search\n",
      "Sign in\n",
      "Sign up\n",
      "Reseting focus\n",
      "You signed in with another tab or window.\n",
      "Reload\n",
      "to refresh your session.\n",
      "You signed out in another tab or window.\n",
      "Reload\n",
      "to refresh your session.\n",
      "You switched accounts on another tab or window.\n",
      "Reload\n",
      "to refresh your session.\n",
      "Dismiss alert\n",
      "Friend09\n",
      "/\n",
      "practice_udemy_llm_engineering\n",
      "Public\n",
      "Notifications\n",
      "You must be signed in to change notification settings\n",
      "Fork\n",
      "0\n",
      "Star\n",
      "0\n",
      "0\n",
      "stars\n",
      "0\n",
      "forks\n",
      "Branches\n",
      "Tags\n",
      "Activity\n",
      "Star\n",
      "Notifications\n",
      "You must be signed in to change notification settings\n",
      "Code\n",
      "Issues\n",
      "0\n",
      "Pull requests\n",
      "0\n",
      "Actions\n",
      "Projects\n",
      "0\n",
      "Security\n",
      "Insights\n",
      "Additional navigation options\n",
      "Code\n",
      "Issues\n",
      "Pull requests\n",
      "Actions\n",
      "Projects\n",
      "Security\n",
      "Insights\n",
      "Friend09/practice_udemy_llm_engineering\n",
      "main\n",
      "Branches\n",
      "Tags\n",
      "Go to file\n",
      "Code\n",
      "Folders and files\n",
      "Name\n",
      "Name\n",
      "Last commit message\n",
      "Last commit date\n",
      "Latest commit\n",
      "History\n",
      "1 Commit\n",
      "files\n",
      "files\n",
      "notebooks\n",
      "notebooks\n",
      "ref_tech2ai @ 7a5cee0\n",
      "ref_tech2ai @ 7a5cee0\n",
      "ref_udemy_agentic_course @ 1118fa9\n",
      "ref_udemy_agentic_course @ 1118fa9\n",
      "ref_udemy_llm_engineering @ 8a0dc7f\n",
      "ref_udemy_llm_engineering @ 8a0dc7f\n",
      ".gitignore\n",
      ".gitignore\n",
      ".gitmodules\n",
      ".gitmodules\n",
      "Makefile\n",
      "Makefile\n",
      "README.md\n",
      "README.md\n",
      "_practise_ai_udemy_llm_engineering.code-workspace\n",
      "_practise_ai_udemy_llm_engineering.code-workspace\n",
      "requirements.txt\n",
      "requirements.txt\n",
      "View all files\n",
      "Repository files navigation\n",
      "README\n",
      "README: Project practise_ai_oreilly_swe_to_ds\n",
      "Udemy: Mastering Generative AI and LLMs: An 8-Week Hands-On Journey\n",
      "About\n",
      "No description, website, or topics provided.\n",
      "Resources\n",
      "Readme\n",
      "Activity\n",
      "Stars\n",
      "0\n",
      "stars\n",
      "Watchers\n",
      "1\n",
      "watching\n",
      "Forks\n",
      "0\n",
      "forks\n",
      "Report repository\n",
      "Releases\n",
      "No releases published\n",
      "Packages\n",
      "0\n",
      "No packages published\n",
      "Languages\n",
      "Jupyter Notebook\n",
      "81.8%\n",
      "Makefile\n",
      "18.2%\n",
      "Footer\n",
      "© 2024 GitHub, Inc.\n",
      "Footer navigation\n",
      "Terms\n",
      "Privacy\n",
      "Security\n",
      "Status\n",
      "Docs\n",
      "Contact\n",
      "Manage cookies\n",
      "Do not share my personal information\n",
      "You can’t perform that action at this time.\n"
     ]
    }
   ],
   "source": [
    "website = Website(\"https://github.com/Friend09/practice_udemy_llm_engineering\")\n",
    "print(website.title)\n",
    "print(website.text)"
   ]
  },
  {
   "cell_type": "markdown",
   "metadata": {},
   "source": [
    "## TYPES OF PROMPTS\n"
   ]
  },
  {
   "cell_type": "code",
   "execution_count": 13,
   "metadata": {},
   "outputs": [],
   "source": [
    "system_prompt = \"You are an assistant that analyzes the contents of a website and provides a short summary, ignoring text that might be navigation related. Respond in markdown.\""
   ]
  },
  {
   "cell_type": "code",
   "execution_count": 18,
   "metadata": {},
   "outputs": [
    {
     "name": "stdout",
     "output_type": "stream",
     "text": [
      "You are looking at a website titled GitHub - Friend09/practice_udemy_llm_engineering\n",
      "The contents of this website is as follows; please provide a short summary of this website in markdown. If it includes news or announcements, then summarize these too. \n",
      "\n",
      "Skip to content\n",
      "Navigation Menu\n",
      "Toggle navigation\n",
      "Sign in\n",
      "Product\n",
      "GitHub Copilot\n",
      "Write better code with AI\n",
      "Security\n",
      "Find and fix vulnerabilities\n",
      "Actions\n",
      "Automate any workflow\n",
      "Codespaces\n",
      "Instant dev environments\n",
      "Issues\n",
      "Plan and track work\n",
      "Code Review\n",
      "Manage code changes\n",
      "Discussions\n",
      "Collaborate outside of code\n",
      "Code Search\n",
      "Find more, search less\n",
      "Explore\n",
      "All features\n",
      "Documentation\n",
      "GitHub Skills\n",
      "Blog\n",
      "Solutions\n",
      "By company size\n",
      "Enterprises\n",
      "Small and medium teams\n",
      "Startups\n",
      "By use case\n",
      "DevSecOps\n",
      "DevOps\n",
      "CI/CD\n",
      "View all use cases\n",
      "By industry\n",
      "Healthcare\n",
      "Financial services\n",
      "Manufacturing\n",
      "Government\n",
      "View all industries\n",
      "View all solutions\n",
      "Resources\n",
      "Topics\n",
      "AI\n",
      "DevOps\n",
      "Security\n",
      "Software Development\n",
      "View all\n",
      "Explore\n",
      "Learning Pathways\n",
      "White papers, Ebooks, Webinars\n",
      "Customer Stories\n",
      "Partners\n",
      "Executive Insights\n",
      "Open Source\n",
      "GitHub Sponsors\n",
      "Fund open source developers\n",
      "The ReadME Project\n",
      "GitHub community articles\n",
      "Repositories\n",
      "Topics\n",
      "Trending\n",
      "Collections\n",
      "Enterprise\n",
      "Enterprise platform\n",
      "AI-powered developer platform\n",
      "Available add-ons\n",
      "Advanced Security\n",
      "Enterprise-grade security features\n",
      "GitHub Copilot\n",
      "Enterprise-grade AI features\n",
      "Premium Support\n",
      "Enterprise-grade 24/7 support\n",
      "Pricing\n",
      "Search or jump to...\n",
      "Search code, repositories, users, issues, pull requests...\n",
      "Search\n",
      "Clear\n",
      "Search syntax tips\n",
      "Provide feedback\n",
      "We read every piece of feedback, and take your input very seriously.\n",
      "Include my email address so I can be contacted\n",
      "Cancel\n",
      "Submit feedback\n",
      "Saved searches\n",
      "Use saved searches to filter your results more quickly\n",
      "Cancel\n",
      "Create saved search\n",
      "Sign in\n",
      "Sign up\n",
      "Reseting focus\n",
      "You signed in with another tab or window.\n",
      "Reload\n",
      "to refresh your session.\n",
      "You signed out in another tab or window.\n",
      "Reload\n",
      "to refresh your session.\n",
      "You switched accounts on another tab or window.\n",
      "Reload\n",
      "to refresh your session.\n",
      "Dismiss alert\n",
      "Friend09\n",
      "/\n",
      "practice_udemy_llm_engineering\n",
      "Public\n",
      "Notifications\n",
      "You must be signed in to change notification settings\n",
      "Fork\n",
      "0\n",
      "Star\n",
      "0\n",
      "0\n",
      "stars\n",
      "0\n",
      "forks\n",
      "Branches\n",
      "Tags\n",
      "Activity\n",
      "Star\n",
      "Notifications\n",
      "You must be signed in to change notification settings\n",
      "Code\n",
      "Issues\n",
      "0\n",
      "Pull requests\n",
      "0\n",
      "Actions\n",
      "Projects\n",
      "0\n",
      "Security\n",
      "Insights\n",
      "Additional navigation options\n",
      "Code\n",
      "Issues\n",
      "Pull requests\n",
      "Actions\n",
      "Projects\n",
      "Security\n",
      "Insights\n",
      "Friend09/practice_udemy_llm_engineering\n",
      "main\n",
      "Branches\n",
      "Tags\n",
      "Go to file\n",
      "Code\n",
      "Folders and files\n",
      "Name\n",
      "Name\n",
      "Last commit message\n",
      "Last commit date\n",
      "Latest commit\n",
      "History\n",
      "1 Commit\n",
      "files\n",
      "files\n",
      "notebooks\n",
      "notebooks\n",
      "ref_tech2ai @ 7a5cee0\n",
      "ref_tech2ai @ 7a5cee0\n",
      "ref_udemy_agentic_course @ 1118fa9\n",
      "ref_udemy_agentic_course @ 1118fa9\n",
      "ref_udemy_llm_engineering @ 8a0dc7f\n",
      "ref_udemy_llm_engineering @ 8a0dc7f\n",
      ".gitignore\n",
      ".gitignore\n",
      ".gitmodules\n",
      ".gitmodules\n",
      "Makefile\n",
      "Makefile\n",
      "README.md\n",
      "README.md\n",
      "_practise_ai_udemy_llm_engineering.code-workspace\n",
      "_practise_ai_udemy_llm_engineering.code-workspace\n",
      "requirements.txt\n",
      "requirements.txt\n",
      "View all files\n",
      "Repository files navigation\n",
      "README\n",
      "README: Project practise_ai_oreilly_swe_to_ds\n",
      "Udemy: Mastering Generative AI and LLMs: An 8-Week Hands-On Journey\n",
      "About\n",
      "No description, website, or topics provided.\n",
      "Resources\n",
      "Readme\n",
      "Activity\n",
      "Stars\n",
      "0\n",
      "stars\n",
      "Watchers\n",
      "1\n",
      "watching\n",
      "Forks\n",
      "0\n",
      "forks\n",
      "Report repository\n",
      "Releases\n",
      "No releases published\n",
      "Packages\n",
      "0\n",
      "No packages published\n",
      "Languages\n",
      "Jupyter Notebook\n",
      "81.8%\n",
      "Makefile\n",
      "18.2%\n",
      "Footer\n",
      "© 2024 GitHub, Inc.\n",
      "Footer navigation\n",
      "Terms\n",
      "Privacy\n",
      "Security\n",
      "Status\n",
      "Docs\n",
      "Contact\n",
      "Manage cookies\n",
      "Do not share my personal information\n",
      "You can’t perform that action at this time.\n"
     ]
    }
   ],
   "source": [
    "# a function that write a user prompt that asks for summaries of websites:\n",
    "\n",
    "\n",
    "def user_prompt_for(website):\n",
    "    user_prompt = f\"You are looking at a website titled {website.title}\"\n",
    "    user_prompt += \"\\nThe contents of this website is as follows; please provide a short summary of this website in markdown. If it includes news or announcements, then summarize these too. \\n\\n\"\n",
    "    user_prompt += website.text\n",
    "\n",
    "    return user_prompt\n",
    "\n",
    "\n",
    "print(user_prompt_for(website=website))"
   ]
  },
  {
   "cell_type": "markdown",
   "metadata": {},
   "source": [
    "## MESSAGES\n"
   ]
  },
  {
   "cell_type": "code",
   "execution_count": 20,
   "metadata": {},
   "outputs": [],
   "source": [
    "messages = [\n",
    "    {\"role\": \"user\", \"content\": \"You are a snarky assistant\"},\n",
    "    {\"role\": \"system\", \"content\": \"What is 2+2?\"},\n",
    "]"
   ]
  },
  {
   "cell_type": "code",
   "execution_count": 21,
   "metadata": {},
   "outputs": [
    {
     "name": "stdout",
     "output_type": "stream",
     "text": [
      "Oh, let me think really hard... it's 4! Shocking, I know. Shall I call the math police?\n"
     ]
    }
   ],
   "source": [
    "response = openai.chat.completions.create(model=\"gpt-4o-mini\", messages=messages)\n",
    "\n",
    "print(response.choices[0].message.content)"
   ]
  },
  {
   "cell_type": "code",
   "execution_count": 23,
   "metadata": {},
   "outputs": [
    {
     "data": {
      "text/plain": [
       "[{'role': 'system',\n",
       "  'content': 'You are an assistant that analyzes the contents of a website and provides a short summary, ignoring text that might be navigation related. Respond in markdown.'},\n",
       " {'role': 'user',\n",
       "  'content': 'You are looking at a website titled GitHub - Friend09/practice_udemy_llm_engineering\\nThe contents of this website is as follows; please provide a short summary of this website in markdown. If it includes news or announcements, then summarize these too. \\n\\nSkip to content\\nNavigation Menu\\nToggle navigation\\nSign in\\nProduct\\nGitHub Copilot\\nWrite better code with AI\\nSecurity\\nFind and fix vulnerabilities\\nActions\\nAutomate any workflow\\nCodespaces\\nInstant dev environments\\nIssues\\nPlan and track work\\nCode Review\\nManage code changes\\nDiscussions\\nCollaborate outside of code\\nCode Search\\nFind more, search less\\nExplore\\nAll features\\nDocumentation\\nGitHub Skills\\nBlog\\nSolutions\\nBy company size\\nEnterprises\\nSmall and medium teams\\nStartups\\nBy use case\\nDevSecOps\\nDevOps\\nCI/CD\\nView all use cases\\nBy industry\\nHealthcare\\nFinancial services\\nManufacturing\\nGovernment\\nView all industries\\nView all solutions\\nResources\\nTopics\\nAI\\nDevOps\\nSecurity\\nSoftware Development\\nView all\\nExplore\\nLearning Pathways\\nWhite papers, Ebooks, Webinars\\nCustomer Stories\\nPartners\\nExecutive Insights\\nOpen Source\\nGitHub Sponsors\\nFund open source developers\\nThe ReadME Project\\nGitHub community articles\\nRepositories\\nTopics\\nTrending\\nCollections\\nEnterprise\\nEnterprise platform\\nAI-powered developer platform\\nAvailable add-ons\\nAdvanced Security\\nEnterprise-grade security features\\nGitHub Copilot\\nEnterprise-grade AI features\\nPremium Support\\nEnterprise-grade 24/7 support\\nPricing\\nSearch or jump to...\\nSearch code, repositories, users, issues, pull requests...\\nSearch\\nClear\\nSearch syntax tips\\nProvide feedback\\nWe read every piece of feedback, and take your input very seriously.\\nInclude my email address so I can be contacted\\nCancel\\nSubmit feedback\\nSaved searches\\nUse saved searches to filter your results more quickly\\nCancel\\nCreate saved search\\nSign in\\nSign up\\nReseting focus\\nYou signed in with another tab or window.\\nReload\\nto refresh your session.\\nYou signed out in another tab or window.\\nReload\\nto refresh your session.\\nYou switched accounts on another tab or window.\\nReload\\nto refresh your session.\\nDismiss alert\\nFriend09\\n/\\npractice_udemy_llm_engineering\\nPublic\\nNotifications\\nYou must be signed in to change notification settings\\nFork\\n0\\nStar\\n0\\n0\\nstars\\n0\\nforks\\nBranches\\nTags\\nActivity\\nStar\\nNotifications\\nYou must be signed in to change notification settings\\nCode\\nIssues\\n0\\nPull requests\\n0\\nActions\\nProjects\\n0\\nSecurity\\nInsights\\nAdditional navigation options\\nCode\\nIssues\\nPull requests\\nActions\\nProjects\\nSecurity\\nInsights\\nFriend09/practice_udemy_llm_engineering\\nmain\\nBranches\\nTags\\nGo to file\\nCode\\nFolders and files\\nName\\nName\\nLast commit message\\nLast commit date\\nLatest commit\\nHistory\\n1 Commit\\nfiles\\nfiles\\nnotebooks\\nnotebooks\\nref_tech2ai @ 7a5cee0\\nref_tech2ai @ 7a5cee0\\nref_udemy_agentic_course @ 1118fa9\\nref_udemy_agentic_course @ 1118fa9\\nref_udemy_llm_engineering @ 8a0dc7f\\nref_udemy_llm_engineering @ 8a0dc7f\\n.gitignore\\n.gitignore\\n.gitmodules\\n.gitmodules\\nMakefile\\nMakefile\\nREADME.md\\nREADME.md\\n_practise_ai_udemy_llm_engineering.code-workspace\\n_practise_ai_udemy_llm_engineering.code-workspace\\nrequirements.txt\\nrequirements.txt\\nView all files\\nRepository files navigation\\nREADME\\nREADME: Project practise_ai_oreilly_swe_to_ds\\nUdemy: Mastering Generative AI and LLMs: An 8-Week Hands-On Journey\\nAbout\\nNo description, website, or topics provided.\\nResources\\nReadme\\nActivity\\nStars\\n0\\nstars\\nWatchers\\n1\\nwatching\\nForks\\n0\\nforks\\nReport repository\\nReleases\\nNo releases published\\nPackages\\n0\\nNo packages published\\nLanguages\\nJupyter Notebook\\n81.8%\\nMakefile\\n18.2%\\nFooter\\n© 2024 GitHub,\\xa0Inc.\\nFooter navigation\\nTerms\\nPrivacy\\nSecurity\\nStatus\\nDocs\\nContact\\nManage cookies\\nDo not share my personal information\\nYou can’t perform that action at this time.'}]"
      ]
     },
     "execution_count": 23,
     "metadata": {},
     "output_type": "execute_result"
    }
   ],
   "source": [
    "def messages_for(website):\n",
    "    return [\n",
    "        {\n",
    "            \"role\": \"system\",\n",
    "            \"content\": system_prompt,\n",
    "        },\n",
    "        {\n",
    "            \"role\": \"user\",\n",
    "            \"content\": user_prompt_for(website),\n",
    "        },\n",
    "    ]\n",
    "\n",
    "\n",
    "messages_for(website=website)"
   ]
  },
  {
   "cell_type": "code",
   "execution_count": 26,
   "metadata": {},
   "outputs": [
    {
     "data": {
      "text/plain": [
       "'# Summary of GitHub Repository: Friend09/practice_udemy_llm_engineering\\n\\nThe GitHub repository `Friend09/practice_udemy_llm_engineering` is a public repository created by the user Friend09. It focuses on hands-on practice related to a Udemy course titled \"Mastering Generative AI and LLMs: An 8-Week Hands-On Journey.\" \\n\\n### Key Details:\\n- **Repository Type**: Public\\n- **Main File Types**: \\n  - **Jupyter Notebook**: 81.8%\\n  - **Makefile**: 18.2%\\n- **Commit History**: The repository has had 1 commit.\\n- **No Description Provided**: Currently, there are no additional details or topics specified in the repository. \\n\\n### Repository Activity:\\n- **Stars**: 0\\n- **Forks**: 0\\n- **Watchers**: 1\\n\\n### Resources:\\nThe repository includes standard files such as a `README.md`, `.gitignore`, and `requirements.txt`, which typically serve to provide information about the project, ignore certain file types in version control, and specify dependencies, respectively. \\n\\nThere are no releases, packages, or significant announcements available at this time.'"
      ]
     },
     "execution_count": 26,
     "metadata": {},
     "output_type": "execute_result"
    }
   ],
   "source": [
    "def summarize(url):\n",
    "    website = Website(url)\n",
    "    response = openai.chat.completions.create(\n",
    "        model=\"gpt-4o-mini\", messages=messages_for(website)\n",
    "    )\n",
    "\n",
    "    return response.choices[0].message.content\n",
    "\n",
    "\n",
    "summarize(\"https://github.com/Friend09/practice_udemy_llm_engineering\")"
   ]
  },
  {
   "cell_type": "code",
   "execution_count": 28,
   "metadata": {},
   "outputs": [
    {
     "data": {
      "text/markdown": [
       "# Repository Summary: Friend09/practice_udemy_llm_engineering\n",
       "\n",
       "The GitHub repository `practice_udemy_llm_engineering` is a public project created by the user Friend09. It appears to focus on hands-on learning related to Generative AI and Large Language Models (LLMs), as suggested by the README description referencing a Udemy course titled \"Mastering Generative AI and LLMs: An 8-Week Hands-On Journey.\" \n",
       "\n",
       "## Repository Details:\n",
       "- **Main Programming Languages:** \n",
       "  - Jupyter Notebook (81.8%)\n",
       "  - Makefile (18.2%)\n",
       "\n",
       "- **Current Activity:** \n",
       "  - There is one commit recorded in the repository.\n",
       "  - No releases or additional packages have been published.\n",
       "\n",
       "- **File Structure Includes:**\n",
       "  - `notebooks` directory\n",
       "  - `.gitignore` file\n",
       "  - `Makefile`\n",
       "  - `requirements.txt`\n",
       "\n",
       "Overall, there are no announcements or updates beyond the creation of the repository itself, and it currently has no stars or forks."
      ],
      "text/plain": [
       "<IPython.core.display.Markdown object>"
      ]
     },
     "metadata": {},
     "output_type": "display_data"
    }
   ],
   "source": [
    "def display_summary(url):\n",
    "    summary = summarize(url)\n",
    "    display(Markdown(summary))\n",
    "\n",
    "\n",
    "display_summary(\"https://github.com/Friend09/practice_udemy_llm_engineering\")"
   ]
  },
  {
   "cell_type": "code",
   "execution_count": 29,
   "metadata": {},
   "outputs": [
    {
     "data": {
      "text/markdown": [
       "# Summary of the Anthropic Website\n",
       "\n",
       "Anthropic is an AI safety and research company based in San Francisco, focused on developing reliable and beneficial AI systems while prioritizing safety. \n",
       "\n",
       "## Key Offerings\n",
       "- **Claude AI Model**: The latest model, Claude 3.5 Sonnet, is now available, featuring advanced capabilities.\n",
       "- **API Access**: Users can build applications using Claude, aimed at driving efficiency and generating revenue opportunities.\n",
       "- **Enterprise Solutions**: Tailored versions of the Claude model for business applications.\n",
       "\n",
       "## Recent Announcements\n",
       "- **New Model Introductions**: On October 22, 2024, Anthropic announced updates including Claude 3.5 Sonnet and Claude 3.5 Haiku, along with a new feature titled \"computer use.\"\n",
       "- **Research Initiatives**: Ongoing research includes \"Constitutional AI: Harmlessness from AI Feedback\" and discussions around AI safety policies.\n",
       "\n",
       "## Team & Careers\n",
       "Anthropic boasts an interdisciplinary team skilled in machine learning, physics, policy, and product development. The company is actively seeking new talent to join its mission.\n",
       "\n",
       "Overall, Anthropic is dedicated to advancing AI technologies responsibly while ensuring a commitment to safety and alignment with human values."
      ],
      "text/plain": [
       "<IPython.core.display.Markdown object>"
      ]
     },
     "metadata": {},
     "output_type": "display_data"
    }
   ],
   "source": [
    "display_summary(\"https://anthropic.com\")"
   ]
  },
  {
   "cell_type": "markdown",
   "metadata": {},
   "source": [
    "# -- INTERMEDIATE PYTHON\n"
   ]
  },
  {
   "cell_type": "code",
   "execution_count": 30,
   "metadata": {},
   "outputs": [
    {
     "data": {
      "text/plain": [
       "[{'title': 'Great Expectations', 'author': 'Charles Dickens'},\n",
       " {'title': 'Bleak House', 'author': 'Charles Dickens'},\n",
       " {'title': 'An Book By No Author'},\n",
       " {'title': 'Moby Dick', 'author': 'Herman Melville'}]"
      ]
     },
     "execution_count": 30,
     "metadata": {},
     "output_type": "execute_result"
    }
   ],
   "source": [
    "# Next let's create some things:\n",
    "\n",
    "fruits = [\"Apples\", \"Bananas\", \"Pears\"]\n",
    "\n",
    "book1 = {\"title\": \"Great Expectations\", \"author\": \"Charles Dickens\"}\n",
    "book2 = {\"title\": \"Bleak House\", \"author\": \"Charles Dickens\"}\n",
    "book3 = {\"title\": \"An Book By No Author\"}\n",
    "book4 = {\"title\": \"Moby Dick\", \"author\": \"Herman Melville\"}\n",
    "\n",
    "books = [book1, book2, book3, book4]\n",
    "books"
   ]
  },
  {
   "cell_type": "markdown",
   "metadata": {},
   "source": [
    "### generators"
   ]
  },
  {
   "cell_type": "code",
   "execution_count": 63,
   "metadata": {},
   "outputs": [],
   "source": [
    "import random\n",
    "import time\n",
    "\n",
    "pronouns = [\"I\", \"You\", \"We\", \"They\"]\n",
    "verbs = [\n",
    "    \"eat\",\n",
    "    \"detest\",\n",
    "    \"bathe in\",\n",
    "    \"deny the existence of\",\n",
    "    \"resent\",\n",
    "    \"pontificate about\",\n",
    "    \"juggle\",\n",
    "    \"impersonate\",\n",
    "    \"worship\",\n",
    "    \"misplace\",\n",
    "    \"conspire with\",\n",
    "    \"philosophize about\",\n",
    "    \"tap dance on\",\n",
    "    \"dramatically renounce\",\n",
    "    \"secretly collect\",\n",
    "]\n",
    "adjectives = [\n",
    "    \"turqoise\",\n",
    "    \"smelly\",\n",
    "    \"arrogant\",\n",
    "    \"festering\",\n",
    "    \"pleasing\",\n",
    "    \"whimsical\",\n",
    "    \"disheveled\",\n",
    "    \"pretentious\",\n",
    "    \"wobbly\",\n",
    "    \"melodramatic\",\n",
    "    \"pompous\",\n",
    "    \"fluorescent\",\n",
    "    \"bewildered\",\n",
    "    \"suspicious\",\n",
    "    \"overripe\",\n",
    "]\n",
    "nouns = [\n",
    "    \"turnips\",\n",
    "    \"rodents\",\n",
    "    \"eels\",\n",
    "    \"walruses\",\n",
    "    \"kumquats\",\n",
    "    \"monocles\",\n",
    "    \"spreadsheets\",\n",
    "    \"bagpipes\",\n",
    "    \"wombats\",\n",
    "    \"accordions\",\n",
    "    \"mustaches\",\n",
    "    \"calculators\",\n",
    "    \"jellyfish\",\n",
    "    \"thermostats\",\n",
    "]"
   ]
  },
  {
   "cell_type": "markdown",
   "metadata": {},
   "source": [
    "# -- DAY2\n"
   ]
  },
  {
   "cell_type": "markdown",
   "metadata": {},
   "source": [
    "### INSTALLATION OF OLLAMA"
   ]
  },
  {
   "cell_type": "code",
   "execution_count": 64,
   "metadata": {},
   "outputs": [],
   "source": [
    "import requests\n",
    "from bs4 import BeautifulSoup\n",
    "from IPython.display import Markdown, display"
   ]
  },
  {
   "cell_type": "code",
   "execution_count": 67,
   "metadata": {},
   "outputs": [],
   "source": [
    "OLLAMA_API = \"http://localhost:11434/api/chat\"\n",
    "HEADERS = {\"Content-Type\": \"application/json\"}\n",
    "MODEL = \"llama3.2\""
   ]
  },
  {
   "cell_type": "code",
   "execution_count": 68,
   "metadata": {},
   "outputs": [],
   "source": [
    "messages = [\n",
    "    {\n",
    "        \"role\": \"user\",\n",
    "        \"content\": \"Describe some of the business applications of Generative AI\",\n",
    "    }\n",
    "]"
   ]
  },
  {
   "cell_type": "code",
   "execution_count": 70,
   "metadata": {},
   "outputs": [],
   "source": [
    "payload = {\n",
    "    \"model\": MODEL,\n",
    "    \"messages\": messages,\n",
    "    \"stream\": False,\n",
    "}"
   ]
  },
  {
   "cell_type": "code",
   "execution_count": 71,
   "metadata": {},
   "outputs": [
    {
     "name": "stdout",
     "output_type": "stream",
     "text": [
      "Generative AI has numerous business applications across various industries, including:\n",
      "\n",
      "1. **Content Generation**: AI-powered tools can generate high-quality content such as articles, social media posts, product descriptions, and more. This can help businesses save time and resources, while also improving the consistency and quality of their content.\n",
      "2. **Marketing Automation**: Generative AI can be used to personalize marketing messages, create targeted ads, and even automate social media posting. This can help businesses increase engagement, conversion rates, and customer loyalty.\n",
      "3. **Product Design and Development**: AI-powered generative design tools can help companies create new product designs, prototypes, and even entire product lines. This can reduce the time and cost associated with traditional design processes.\n",
      "4. **Customer Service Chatbots**: Generative AI can be used to create conversational chatbots that can understand customer queries, provide personalized responses, and even resolve simple issues on their own.\n",
      "5. **Predictive Maintenance**: AI-powered predictive maintenance tools can analyze sensor data from machines and predict when maintenance is needed, reducing downtime and improving overall equipment effectiveness (OEE).\n",
      "6. **Data Analysis and Visualization**: Generative AI can be used to generate visualizations, reports, and insights from large datasets, helping businesses make data-driven decisions faster.\n",
      "7. **Personalized Recommendations**: AI-powered tools can analyze customer behavior, preferences, and purchase history to provide personalized recommendations for products, services, or experiences.\n",
      "8. **Creative Writing and Art**: Generative AI can be used to create original content such as stories, poetry, music, and even artwork. This can help businesses tap into new creative sources and reduce the cost of content creation.\n",
      "9. **Language Translation**: AI-powered tools can generate human-like translations of text, audio, and video, helping businesses communicate with global customers more effectively.\n",
      "10. **Supply Chain Optimization**: Generative AI can be used to analyze supply chain data, predict demand fluctuations, and optimize inventory levels, reducing costs and improving delivery times.\n",
      "\n",
      "Some specific examples of companies using generative AI include:\n",
      "\n",
      "* **Google's Bard**, which uses generative AI to answer user queries\n",
      "* **Amazon's Alexa**, which uses conversational chatbots powered by generative AI\n",
      "* **Microsoft's Azure**, which offers a range of AI-powered tools for content generation, marketing automation, and more\n",
      "* **Adobe's Fresco**, which uses generative AI to create original artwork and designs\n",
      "\n",
      "These are just a few examples of the many business applications of Generative AI. As the technology continues to evolve, we can expect to see even more innovative use cases across various industries.\n"
     ]
    }
   ],
   "source": [
    "response = requests.post(OLLAMA_API, json=payload, headers=HEADERS)\n",
    "print(response.json()[\"message\"][\"content\"])"
   ]
  },
  {
   "cell_type": "markdown",
   "metadata": {},
   "source": [
    "### OLLAMA PACKAGE"
   ]
  },
  {
   "cell_type": "code",
   "execution_count": 74,
   "metadata": {},
   "outputs": [
    {
     "name": "stdout",
     "output_type": "stream",
     "text": [
      "Generative AI has numerous business applications across various industries, including:\n",
      "\n",
      "1. **Content Generation**: Generative AI can be used to create content such as articles, social media posts, product descriptions, and even entire books. This can help businesses save time and resources while also improving the quality of their content.\n",
      "2. **Product Design and Development**: Generative AI can assist in designing new products, such as fashion items, furniture, or electronics. It can also help optimize product designs for performance, durability, and sustainability.\n",
      "3. **Image and Video Generation**: Generative AI can create high-quality images and videos that can be used for marketing campaigns, advertising, or even creating new visual content for social media platforms.\n",
      "4. **Music Composition and Sound Design**: Generative AI can generate music tracks, sound effects, and even entire albums. This can help businesses save time and resources while also improving the quality of their audio content.\n",
      "5. **Chatbots and Customer Service**: Generative AI-powered chatbots can provide 24/7 customer support, helping businesses improve response times and reduce the burden on human customer service representatives.\n",
      "6. **Predictive Analytics and Forecasting**: Generative AI can analyze large datasets to predict future trends, patterns, and outcomes. This can help businesses make data-driven decisions and optimize their operations.\n",
      "7. **Marketing Automation**: Generative AI can assist in creating personalized marketing campaigns by generating content, email templates, and even entire advertising campaigns.\n",
      "8. **Supply Chain Optimization**: Generative AI can analyze supply chain data to identify inefficiencies and suggest improvements. This can help businesses reduce costs, improve delivery times, and enhance overall supply chain management.\n",
      "9. **Healthcare and Medical Imaging Analysis**: Generative AI can assist in analyzing medical images, identifying patterns, and suggesting diagnoses. It can also help generate personalized treatment plans and patient care recommendations.\n",
      "10. **Cybersecurity Threat Detection**: Generative AI can analyze network traffic and identify potential security threats in real-time. This can help businesses detect and respond to cyber attacks more quickly and effectively.\n",
      "\n",
      "Some specific business applications of Generative AI include:\n",
      "\n",
      "* **Automating repetitive tasks**: Generative AI can automate routine tasks such as data entry, content writing, or even bookkeeping.\n",
      "* **Personalized product recommendations**: Generative AI can analyze customer behavior and preferences to suggest personalized products or services.\n",
      "* **Intelligent search engines**: Generative AI can create intelligent search engines that can analyze user queries and provide more accurate results.\n",
      "* **Automated customer service chatbots**: Generative AI-powered chatbots can provide 24/7 customer support, helping businesses improve response times and reduce the burden on human customer service representatives.\n",
      "\n",
      "Overall, Generative AI has the potential to transform various business applications by automating tasks, improving efficiency, and enhancing decision-making.\n"
     ]
    }
   ],
   "source": [
    "import ollama\n",
    "\n",
    "response = ollama.chat(model=MODEL, messages=messages)\n",
    "print(response[\"message\"][\"content\"])"
   ]
  },
  {
   "cell_type": "markdown",
   "metadata": {},
   "source": [
    "### OPENAI OLLAMA"
   ]
  },
  {
   "cell_type": "code",
   "execution_count": 78,
   "metadata": {},
   "outputs": [
    {
     "name": "stdout",
     "output_type": "stream",
     "text": [
      "Generative AI has numerous business applications, including:\n",
      "\n",
      "1. **Content Generation**: Use cases like auto-generated text, images, and videos for creating content such as blog posts, infographics, social media posts, and product descriptions.\n",
      "2. **Personalization**: Generate personalized recommendations, offers, or messages based on customers' behavior, preferences, and demographics.\n",
      "3. **Brand Voice**: Develop branded voice personalities for various channels, such as chatbots, customer service, and marketing campaigns.\n",
      "4. **Product Design**: Utilize AI-generated designs and prototypes to accelerate design development, improve aesthetics, and reduce production time.\n",
      "5. **Training Data Generation**: Create synthetic datasets for machine learning model training, reducing data collection costs and time constraints.\n",
      "6. **Marketing Campaigns**: Leverage AI-generated content, graphics, and social media posts to create engaging marketing campaigns with high recall rates.\n",
      "7. **Speech Synthesis**: Develop conversational interfaces using AI-synthesized speech, improving customer experience in chatbots, voice assistants, and automated phone systems.\n",
      "8. **Data Analysis and Visualization**: Use generative models to extract insights from unstructured data, generate visualizations, and create predictive analytics.\n",
      "9. **Digital Twinning**: Create digital replicas of physical processes, products, or facilities for simulation-based modeling, decision-making, and optimization.\n",
      "10. **User Experience (UX) Design**: Employ AI-generated user experiences to craft more engaging, intuitive, and personalized interfaces.\n",
      "\n",
      "Additionally, various industries have started leveraging generative AI in areas such as:\n",
      "\n",
      "1. **Financial Services**: Generate synthetic financial data for training models, optimize portfolio performances, or create simulated trading environments.\n",
      "2. **Healthcare**: Develop AI-generated medical reports, diagnostic tools, and patient feedback platforms to improve healthcare outcomes.\n",
      "3. **Retail and E-commerce**: Utilize generative AI to personalize product recommendations, predictive analytics, and customer segmentation.\n",
      "4. **Energy and Utilities**: Use generative models for demand forecasting, energy efficiency optimization, and renewable resource planning.\n",
      "\n",
      "The applications of generative AI can lead to cost savings, increased productivity, and enhanced decision-making capabilities in various industries.\n"
     ]
    }
   ],
   "source": [
    "from openai import OpenAI\n",
    "\n",
    "ollama_via_openai = OpenAI(base_url=\"http://localhost:11434/v1\", api_key=\"ollama\")\n",
    "\n",
    "response = ollama_via_openai.chat.completions.create(model=MODEL, messages=messages)\n",
    "\n",
    "print(response.choices[0].message.content)"
   ]
  },
  {
   "cell_type": "markdown",
   "metadata": {},
   "source": [
    "# -- DAY 5\n"
   ]
  },
  {
   "cell_type": "code",
   "execution_count": 4,
   "metadata": {},
   "outputs": [],
   "source": [
    "import os\n",
    "import requests\n",
    "import json\n",
    "from typing import List\n",
    "from dotenv import load_dotenv\n",
    "from bs4 import BeautifulSoup\n",
    "from IPython.display import Markdown, display, update_display\n",
    "from openai import OpenAI"
   ]
  },
  {
   "cell_type": "code",
   "execution_count": 7,
   "metadata": {},
   "outputs": [],
   "source": [
    "load_dotenv()\n",
    "api_key = os.getenv(\"OPENAI_API_KEY\")\n",
    "\n",
    "MODEL = \"gpt-4o-mini\"\n",
    "openai = OpenAI()"
   ]
  },
  {
   "cell_type": "code",
   "execution_count": 21,
   "metadata": {},
   "outputs": [],
   "source": [
    "# A class to represent a Webpage\n",
    "\n",
    "# Some websites need you to use proper headers when fetching them:\n",
    "headers = {\n",
    "    \"User-Agent\": \"Mozilla/5.0 (Windows NT 10.0; Win64; x64) AppleWebKit/537.36 (KHTML, like Gecko) Chrome/117.0.0.0 Safari/537.36\"\n",
    "}\n",
    "\n",
    "\n",
    "class Website:\n",
    "    def __init__(self, url):\n",
    "        self.url = url\n",
    "        response = requests.get(url, headers=headers)\n",
    "        self.body = response.content\n",
    "        soup = BeautifulSoup(self.body, \"html.parser\")\n",
    "        self.title = soup.title.string if soup.title else \"No title found\"\n",
    "        if soup.body:\n",
    "            for irrelevant in soup.body([\"script\", \"style\", \"img\", \"input\"]):\n",
    "                irrelevant.decompose()\n",
    "            self.text = soup.body.get_text(separator=\"\\n\", strip=True)\n",
    "        else:\n",
    "            self.text = \"\"\n",
    "        links = [link.get(\"href\") for link in soup.find_all(\"a\")]\n",
    "        self.links = [link for link in links if link]\n",
    "\n",
    "    def get_contents(self):\n",
    "        return f\"Webpage Title:\\n{self.title}\\nWebpage Contents:\\n{self.text}\\n\\n\""
   ]
  },
  {
   "cell_type": "code",
   "execution_count": 22,
   "metadata": {},
   "outputs": [
    {
     "data": {
      "text/plain": [
       "['https://edwarddonner.com/',\n",
       " 'https://edwarddonner.com/outsmart/',\n",
       " 'https://edwarddonner.com/about-me-and-about-nebula/',\n",
       " 'https://edwarddonner.com/posts/',\n",
       " 'https://edwarddonner.com/',\n",
       " 'https://news.ycombinator.com',\n",
       " 'https://nebula.io/?utm_source=ed&utm_medium=referral',\n",
       " 'https://www.prnewswire.com/news-releases/wynden-stark-group-acquires-nyc-venture-backed-tech-startup-untapt-301269512.html',\n",
       " 'https://patents.google.com/patent/US20210049536A1/',\n",
       " 'https://www.linkedin.com/in/eddonner/',\n",
       " 'https://edwarddonner.com/2024/11/13/llm-engineering-resources/',\n",
       " 'https://edwarddonner.com/2024/11/13/llm-engineering-resources/',\n",
       " 'https://edwarddonner.com/2024/10/16/from-software-engineer-to-ai-data-scientist-resources/',\n",
       " 'https://edwarddonner.com/2024/10/16/from-software-engineer-to-ai-data-scientist-resources/',\n",
       " 'https://edwarddonner.com/2024/08/06/outsmart/',\n",
       " 'https://edwarddonner.com/2024/08/06/outsmart/',\n",
       " 'https://edwarddonner.com/2024/06/26/choosing-the-right-llm-resources/',\n",
       " 'https://edwarddonner.com/2024/06/26/choosing-the-right-llm-resources/',\n",
       " 'https://edwarddonner.com/',\n",
       " 'https://edwarddonner.com/outsmart/',\n",
       " 'https://edwarddonner.com/about-me-and-about-nebula/',\n",
       " 'https://edwarddonner.com/posts/',\n",
       " 'mailto:hello@mygroovydomain.com',\n",
       " 'https://www.linkedin.com/in/eddonner/',\n",
       " 'https://twitter.com/edwarddonner',\n",
       " 'https://www.facebook.com/edward.donner.52']"
      ]
     },
     "execution_count": 22,
     "metadata": {},
     "output_type": "execute_result"
    }
   ],
   "source": [
    "ed = Website(\"https://edwarddonner.com\")\n",
    "ed.links"
   ]
  },
  {
   "cell_type": "code",
   "execution_count": 30,
   "metadata": {},
   "outputs": [
    {
     "name": "stdout",
     "output_type": "stream",
     "text": [
      "You are provided with a list of links found on a webpage. you are able to decide which of the links would be most relavant to include in a broachure about the company, such as links to an About page, or a Company page, or Careers/Jobs pages.\n",
      "\n",
      "You should respond in JSON as in this example:\n",
      "{\n",
      "    \"links\":[\n",
      "        {\"type\": \"about page\", \"url\":\"https://full.url/goes/here/about\"},\n",
      "        {\"type\": \"careers page\", \"url\":\"https://another.full.url/careers\"},\n",
      "    ]\n",
      "}\n",
      "\n"
     ]
    }
   ],
   "source": [
    "link_system_prompt = \"You are provided with a list of links found on a webpage. you are able to decide which of the links would be most relavant to include in a broachure about the company, such as links to an About page, or a Company page, or Careers/Jobs pages.\\n\\n\"\n",
    "\n",
    "link_system_prompt += \"You should respond in JSON as in this example:\"\n",
    "link_system_prompt += \"\"\"\n",
    "{\n",
    "    \"links\":[\n",
    "        {\"type\": \"about page\", \"url\":\"https://full.url/goes/here/about\"},\n",
    "        {\"type\": \"careers page\", \"url\":\"https://another.full.url/careers\"},\n",
    "    ]\n",
    "}\n",
    "\"\"\"\n",
    "\n",
    "print(link_system_prompt)"
   ]
  },
  {
   "cell_type": "code",
   "execution_count": 38,
   "metadata": {},
   "outputs": [
    {
     "name": "stdout",
     "output_type": "stream",
     "text": [
      "Here is the list of links on the website of https://edwarddonner.com - please decide which of these are relavant web links for a broachure about the company, respond with the full https URL in JSON format. Do not include Terms of Service, Privacy, email links.\n",
      "Links (some might be relative links):\n",
      "https://edwarddonner.com/\n",
      "https://edwarddonner.com/outsmart/\n",
      "https://edwarddonner.com/about-me-and-about-nebula/\n",
      "https://edwarddonner.com/posts/\n",
      "https://edwarddonner.com/\n",
      "https://news.ycombinator.com\n",
      "https://nebula.io/?utm_source=ed&utm_medium=referral\n",
      "https://www.prnewswire.com/news-releases/wynden-stark-group-acquires-nyc-venture-backed-tech-startup-untapt-301269512.html\n",
      "https://patents.google.com/patent/US20210049536A1/\n",
      "https://www.linkedin.com/in/eddonner/\n",
      "https://edwarddonner.com/2024/11/13/llm-engineering-resources/\n",
      "https://edwarddonner.com/2024/11/13/llm-engineering-resources/\n",
      "https://edwarddonner.com/2024/10/16/from-software-engineer-to-ai-data-scientist-resources/\n",
      "https://edwarddonner.com/2024/10/16/from-software-engineer-to-ai-data-scientist-resources/\n",
      "https://edwarddonner.com/2024/08/06/outsmart/\n",
      "https://edwarddonner.com/2024/08/06/outsmart/\n",
      "https://edwarddonner.com/2024/06/26/choosing-the-right-llm-resources/\n",
      "https://edwarddonner.com/2024/06/26/choosing-the-right-llm-resources/\n",
      "https://edwarddonner.com/\n",
      "https://edwarddonner.com/outsmart/\n",
      "https://edwarddonner.com/about-me-and-about-nebula/\n",
      "https://edwarddonner.com/posts/\n",
      "mailto:hello@mygroovydomain.com\n",
      "https://www.linkedin.com/in/eddonner/\n",
      "https://twitter.com/edwarddonner\n",
      "https://www.facebook.com/edward.donner.52\n"
     ]
    }
   ],
   "source": [
    "def get_links_user_prompt(website):\n",
    "    user_prompt = f\"Here is the list of links on the website of {website.url} - \"\n",
    "    user_prompt += \"please decide which of these are relavant web links for a broachure about the company, respond with the full https URL in JSON format. Do not include Terms of Service, Privacy, email links.\\n\"\n",
    "    user_prompt += \"Links (some might be relative links):\\n\"\n",
    "    user_prompt += \"\\n\".join(website.links)\n",
    "\n",
    "    return user_prompt\n",
    "\n",
    "\n",
    "print(get_links_user_prompt(ed))"
   ]
  },
  {
   "cell_type": "code",
   "execution_count": 42,
   "metadata": {},
   "outputs": [
    {
     "data": {
      "text/plain": [
       "{'links': [{'type': 'about page', 'url': 'https://huggingface.co/'},\n",
       "  {'type': 'careers page', 'url': 'https://apply.workable.com/huggingface/'},\n",
       "  {'type': 'enterprise page', 'url': 'https://huggingface.co/enterprise'},\n",
       "  {'type': 'pricing page', 'url': 'https://huggingface.co/pricing'},\n",
       "  {'type': 'models page', 'url': 'https://huggingface.co/models'},\n",
       "  {'type': 'datasets page', 'url': 'https://huggingface.co/datasets'},\n",
       "  {'type': 'spaces page', 'url': 'https://huggingface.co/spaces'},\n",
       "  {'type': 'blog page', 'url': 'https://huggingface.co/blog'},\n",
       "  {'type': 'docs page', 'url': 'https://huggingface.co/docs'},\n",
       "  {'type': 'community page', 'url': 'https://discuss.huggingface.co'},\n",
       "  {'type': 'social media page', 'url': 'https://twitter.com/huggingface'},\n",
       "  {'type': 'linkedin page',\n",
       "   'url': 'https://www.linkedin.com/company/huggingface/'}]}"
      ]
     },
     "execution_count": 42,
     "metadata": {},
     "output_type": "execute_result"
    }
   ],
   "source": [
    "# use llm to get the relevant links\n",
    "def get_links(url):\n",
    "    website = Website(url)\n",
    "    response = openai.chat.completions.create(\n",
    "        model=MODEL,\n",
    "        messages=[\n",
    "            {\"role\": \"system\", \"content\": link_system_prompt},\n",
    "            {\"role\": \"user\", \"content\": get_links_user_prompt(website)},\n",
    "        ],\n",
    "        response_format={\"type\": \"json_object\"},\n",
    "    )\n",
    "    result = response.choices[0].message.content\n",
    "    return json.loads(result)\n",
    "\n",
    "\n",
    "huggingface = Website(\"https://huggingface.co\")\n",
    "huggingface.links\n",
    "\n",
    "get_links(\"https://huggingface.co\")"
   ]
  },
  {
   "cell_type": "markdown",
   "metadata": {},
   "source": [
    "### Second step: make the brochure!\n"
   ]
  },
  {
   "cell_type": "code",
   "execution_count": 43,
   "metadata": {},
   "outputs": [],
   "source": []
  },
  {
   "cell_type": "code",
   "execution_count": null,
   "metadata": {},
   "outputs": [],
   "source": []
  },
  {
   "cell_type": "code",
   "execution_count": null,
   "metadata": {},
   "outputs": [],
   "source": []
  },
  {
   "cell_type": "code",
   "execution_count": null,
   "metadata": {},
   "outputs": [],
   "source": []
  },
  {
   "cell_type": "markdown",
   "metadata": {},
   "source": [
    "# -- WEEK 1 EXERCISE\n"
   ]
  }
 ],
 "metadata": {
  "kernelspec": {
   "display_name": ".venv",
   "language": "python",
   "name": "python3"
  },
  "language_info": {
   "codemirror_mode": {
    "name": "ipython",
    "version": 3
   },
   "file_extension": ".py",
   "mimetype": "text/x-python",
   "name": "python",
   "nbconvert_exporter": "python",
   "pygments_lexer": "ipython3",
   "version": "3.11.11"
  }
 },
 "nbformat": 4,
 "nbformat_minor": 2
}
